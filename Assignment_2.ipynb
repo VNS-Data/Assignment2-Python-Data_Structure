{
 "cells": [
  {
   "cell_type": "raw",
   "id": "d8bb44bb-fc91-425d-8d86-51866f2fe534",
   "metadata": {},
   "source": [
    "1. Discuss string slicing and provide examples\n",
    "Slicing can be used to get specific range of characters.\n",
    "Slicing can be used to get specific characters by defining the start index and required index.\n",
    "Syntax:\n",
    "string_name[start_index:end_index:step]  >>As index starts from 0, the end index is actual position-1\n",
    "OR\n",
    "string_name[start_index:end_index] >> In this case step is considered to be 1, by default.\n"
   ]
  },
  {
   "cell_type": "code",
   "execution_count": 1,
   "id": "fdad0fe9-ec2b-43e7-8cc4-1ad0965cea36",
   "metadata": {},
   "outputs": [
    {
     "data": {
      "text/plain": [
       "'Vaishnavi'"
      ]
     },
     "execution_count": 1,
     "metadata": {},
     "output_type": "execute_result"
    }
   ],
   "source": [
    "v = \"Vaishnavi\"\n",
    "v"
   ]
  },
  {
   "cell_type": "code",
   "execution_count": 2,
   "id": "17f77b91-d6d7-4103-9b26-c599401a003f",
   "metadata": {},
   "outputs": [
    {
     "data": {
      "text/plain": [
       "'V'"
      ]
     },
     "execution_count": 2,
     "metadata": {},
     "output_type": "execute_result"
    }
   ],
   "source": [
    "v[0]"
   ]
  },
  {
   "cell_type": "code",
   "execution_count": 4,
   "id": "120daef0-7dbf-4935-a40a-7b572d06f048",
   "metadata": {},
   "outputs": [
    {
     "data": {
      "text/plain": [
       "'ishn'"
      ]
     },
     "execution_count": 4,
     "metadata": {},
     "output_type": "execute_result"
    }
   ],
   "source": [
    "v[2:6]"
   ]
  },
  {
   "cell_type": "code",
   "execution_count": 5,
   "id": "5ec8ad49-b27d-4641-bb28-bf5e4a25b0bf",
   "metadata": {},
   "outputs": [
    {
     "data": {
      "text/plain": [
       "'iha'"
      ]
     },
     "execution_count": 5,
     "metadata": {},
     "output_type": "execute_result"
    }
   ],
   "source": [
    "v[2:8:2]"
   ]
  },
  {
   "cell_type": "code",
   "execution_count": 6,
   "id": "174c535d-ef0a-4607-8c45-39102e15e821",
   "metadata": {},
   "outputs": [
    {
     "data": {
      "text/plain": [
       "'I will be a billionaire'"
      ]
     },
     "execution_count": 6,
     "metadata": {},
     "output_type": "execute_result"
    }
   ],
   "source": [
    "d=\"I will be a billionaire\"\n",
    "d"
   ]
  },
  {
   "cell_type": "code",
   "execution_count": 9,
   "id": "0ecfde27-0364-4799-a93a-374c1e00e760",
   "metadata": {},
   "outputs": [
    {
     "data": {
      "text/plain": [
       "' billion'"
      ]
     },
     "execution_count": 9,
     "metadata": {},
     "output_type": "execute_result"
    }
   ],
   "source": [
    "d[11:19]"
   ]
  },
  {
   "cell_type": "raw",
   "id": "f0ff55e8-d0fd-4c53-964d-e6a7d15579b9",
   "metadata": {},
   "source": [
    "2.\tExplain the key features of lists in Python \n",
    "Lists are ordered collection of items.\n",
    "Lists are mutable\n",
    "List can store heterogenous data types ie string, integer, boolean.\n",
    "List items can be accessed using its index.\n",
    "We can add, delete or modify elemnts as per our choice "
   ]
  },
  {
   "cell_type": "code",
   "execution_count": 12,
   "id": "1f9011f9-1021-4623-ad25-b0b396032c3c",
   "metadata": {},
   "outputs": [
    {
     "data": {
      "text/plain": [
       "['Milk', 'Eggs', 1, 2, False]"
      ]
     },
     "execution_count": 12,
     "metadata": {},
     "output_type": "execute_result"
    }
   ],
   "source": [
    "Grocery_list=[\"Milk\", \"Eggs\",1,2,False]\n",
    "Grocery_list"
   ]
  },
  {
   "cell_type": "raw",
   "id": "5785aaf5-433f-4837-b8f1-cca3795aad02",
   "metadata": {},
   "source": [
    "3.\tDescribe how to access, modify, and delete elements in a list with examples \n",
    "Lists items start with zero index, the second is at index 1 so its n-1\n",
    "We can access the elements using the index of the items in list.\n"
   ]
  },
  {
   "cell_type": "code",
   "execution_count": 15,
   "id": "bef14f9a-a433-4b4f-94e7-485a9d5688ea",
   "metadata": {},
   "outputs": [
    {
     "data": {
      "text/plain": [
       "1"
      ]
     },
     "execution_count": 15,
     "metadata": {},
     "output_type": "execute_result"
    }
   ],
   "source": [
    "shopping = [\"pwskills\",1,\"Greece\"]\n",
    "shopping[1]"
   ]
  },
  {
   "cell_type": "code",
   "execution_count": 16,
   "id": "6152c57c-0a9e-4e84-a330-b47eceb70c63",
   "metadata": {},
   "outputs": [
    {
     "data": {
      "text/plain": [
       "'Greece'"
      ]
     },
     "execution_count": 16,
     "metadata": {},
     "output_type": "execute_result"
    }
   ],
   "source": [
    "shopping[2]"
   ]
  },
  {
   "cell_type": "raw",
   "id": "9fcee40f-c4e0-42a3-b9c6-b4399dd6fcd8",
   "metadata": {},
   "source": [
    "To add new elements append(), or insert() is used\n",
    "Append method\n",
    " The append() method is used to add an element to the end of a list\n",
    " It simply adds a new element to the original list.\n"
   ]
  },
  {
   "cell_type": "code",
   "execution_count": 18,
   "id": "c91cb42f-3377-4e30-bd5b-bab1d97a0cf2",
   "metadata": {},
   "outputs": [
    {
     "name": "stdout",
     "output_type": "stream",
     "text": [
      "['Greece', 'Paris']\n"
     ]
    }
   ],
   "source": [
    "destinations = [\"Greece\",\"Paris\"]\n",
    "print(destinations)"
   ]
  },
  {
   "cell_type": "code",
   "execution_count": 19,
   "id": "bfa26ef3-55fa-480f-acc9-436dd9a02c53",
   "metadata": {},
   "outputs": [
    {
     "name": "stdout",
     "output_type": "stream",
     "text": [
      "['Greece', 'Paris', 'London', 'Rome']\n"
     ]
    }
   ],
   "source": [
    "destinations.append(\"London\")\n",
    "destinations.append(\"Rome\")\n",
    "print(destinations)"
   ]
  },
  {
   "cell_type": "raw",
   "id": "8f7de612-248c-4f56-bfea-fc96f3e82d2a",
   "metadata": {},
   "source": [
    "INSERT method\n",
    " The insert() method allows you to add an element at a specified index in the list ̧\n",
    " It also modifies the original list.\n"
   ]
  },
  {
   "cell_type": "code",
   "execution_count": 20,
   "id": "d77c0601-a0bc-499b-89ed-a880770d4db8",
   "metadata": {},
   "outputs": [
    {
     "name": "stdout",
     "output_type": "stream",
     "text": [
      "['Greece', 'Paris']\n"
     ]
    }
   ],
   "source": [
    "destinations = [\"Greece\",\"Paris\"]\n",
    "print(destinations)"
   ]
  },
  {
   "cell_type": "code",
   "execution_count": 22,
   "id": "bd9cb76d-da84-43df-a7fe-dcf5545929db",
   "metadata": {},
   "outputs": [
    {
     "name": "stdout",
     "output_type": "stream",
     "text": [
      "['Greece', 'Paris', 'Rome']\n"
     ]
    }
   ],
   "source": [
    "destinations.insert(2,\"Rome\")\n",
    "print(destinations)\n"
   ]
  },
  {
   "cell_type": "raw",
   "id": "60d332d0-0265-43db-9155-ccba3de0c2ca",
   "metadata": {},
   "source": [
    "To remove elements from list remove() and pop is used. In pop, index of the element can be specified.\n"
   ]
  },
  {
   "cell_type": "code",
   "execution_count": 23,
   "id": "08ebcdb6-f60f-4720-aa1c-8b449ba5efa9",
   "metadata": {},
   "outputs": [
    {
     "name": "stdout",
     "output_type": "stream",
     "text": [
      "['Greece', 'Paris', 'Rome']\n"
     ]
    }
   ],
   "source": [
    "print(destinations)"
   ]
  },
  {
   "cell_type": "code",
   "execution_count": 24,
   "id": "4e68a5fa-7924-4931-909e-19fd873b1577",
   "metadata": {},
   "outputs": [
    {
     "name": "stdout",
     "output_type": "stream",
     "text": [
      "['Paris', 'Rome']\n"
     ]
    }
   ],
   "source": [
    "destinations.remove(\"Greece\")\n",
    "print(destinations)"
   ]
  },
  {
   "cell_type": "code",
   "execution_count": 26,
   "id": "9adf42ed-3183-4d52-840e-ac1bcfe52af8",
   "metadata": {},
   "outputs": [
    {
     "name": "stdout",
     "output_type": "stream",
     "text": [
      "['Paris']\n"
     ]
    }
   ],
   "source": [
    "destinations.pop(1)\n",
    "print(destinations)"
   ]
  },
  {
   "cell_type": "raw",
   "id": "7bac7308-59e6-485f-8825-a3cfe0bc0956",
   "metadata": {},
   "source": [
    "4.\tCompare and contrast tuples and lists with examples \n",
    "A list is the commonly used data structures in Python. \n",
    "It is an ordered collection of elements.\n",
    "The items are of heterogenous data type, such as integers, strings, or other lists.\n",
    "Lists are mutable, so the list items can be changed after creation.\n",
    "You can access elements by their index.\n",
    "You can perform various operations like adding, removing, or sorting elements."
   ]
  },
  {
   "cell_type": "raw",
   "id": "1308592d-eec7-4704-9b85-4f702a03ea81",
   "metadata": {},
   "source": [
    "Tuples are used to store heterogeneous and homogeneous data.\n",
    "Tuples are immutable in nature.\n",
    "Tuples are ordered collection of elements.\n",
    "An index is used to traverse a tuple.\n",
    "Tuples are similar to lists. It also preserves the data sequence.\n",
    "As tuples are immutable, they are faster than the list because they are static.\n"
   ]
  },
  {
   "cell_type": "code",
   "execution_count": 1,
   "id": "f8f495e7-d183-4e15-bc88-1727cad55e8b",
   "metadata": {},
   "outputs": [
    {
     "data": {
      "text/plain": [
       "['apples', 'peach', 'oranges']"
      ]
     },
     "execution_count": 1,
     "metadata": {},
     "output_type": "execute_result"
    }
   ],
   "source": [
    "fruits=[\"apples\",\"peach\",\"oranges\"]\n",
    "fruits"
   ]
  },
  {
   "cell_type": "code",
   "execution_count": 2,
   "id": "1ce600b5-7f87-4801-aa3a-22956eeee3bf",
   "metadata": {},
   "outputs": [
    {
     "data": {
      "text/plain": [
       "'peach'"
      ]
     },
     "execution_count": 2,
     "metadata": {},
     "output_type": "execute_result"
    }
   ],
   "source": [
    "fruits[1]"
   ]
  },
  {
   "cell_type": "code",
   "execution_count": 3,
   "id": "186b3266-11ba-4142-83ef-1eb4717b159c",
   "metadata": {},
   "outputs": [
    {
     "data": {
      "text/plain": [
       "list"
      ]
     },
     "execution_count": 3,
     "metadata": {},
     "output_type": "execute_result"
    }
   ],
   "source": [
    "type(fruits)"
   ]
  },
  {
   "cell_type": "code",
   "execution_count": 4,
   "id": "5193f57e-1df1-4661-88fe-c7287dfa0605",
   "metadata": {},
   "outputs": [
    {
     "data": {
      "text/plain": [
       "('Potatoes', 'Garlic', 'Onions')"
      ]
     },
     "execution_count": 4,
     "metadata": {},
     "output_type": "execute_result"
    }
   ],
   "source": [
    "veggies=(\"Potatoes\",\"Garlic\",\"Onions\")\n",
    "veggies"
   ]
  },
  {
   "cell_type": "code",
   "execution_count": 5,
   "id": "25159880-f0e0-4ef7-90bd-811b255e2458",
   "metadata": {},
   "outputs": [
    {
     "data": {
      "text/plain": [
       "tuple"
      ]
     },
     "execution_count": 5,
     "metadata": {},
     "output_type": "execute_result"
    }
   ],
   "source": [
    "type(veggies)"
   ]
  },
  {
   "cell_type": "code",
   "execution_count": 6,
   "id": "f19c62d3-456c-4e0c-b5a1-899b9b03b72f",
   "metadata": {},
   "outputs": [
    {
     "data": {
      "text/plain": [
       "'Garlic'"
      ]
     },
     "execution_count": 6,
     "metadata": {},
     "output_type": "execute_result"
    }
   ],
   "source": [
    "veggies[1]"
   ]
  },
  {
   "cell_type": "code",
   "execution_count": 7,
   "id": "e2ac4fcb-5322-4ce7-a18c-8314f84344ff",
   "metadata": {},
   "outputs": [
    {
     "ename": "TypeError",
     "evalue": "'tuple' object does not support item assignment",
     "output_type": "error",
     "traceback": [
      "\u001b[0;31m---------------------------------------------------------------------------\u001b[0m",
      "\u001b[0;31mTypeError\u001b[0m                                 Traceback (most recent call last)",
      "Cell \u001b[0;32mIn[7], line 1\u001b[0m\n\u001b[0;32m----> 1\u001b[0m \u001b[43mveggies\u001b[49m\u001b[43m[\u001b[49m\u001b[38;5;241;43m1\u001b[39;49m\u001b[43m]\u001b[49m\u001b[38;5;241m=\u001b[39m\u001b[38;5;124m\"\u001b[39m\u001b[38;5;124mTomatoes\u001b[39m\u001b[38;5;124m\"\u001b[39m\n",
      "\u001b[0;31mTypeError\u001b[0m: 'tuple' object does not support item assignment"
     ]
    }
   ],
   "source": [
    "veggies[1]=\"Tomatoes\""
   ]
  },
  {
   "cell_type": "code",
   "execution_count": 8,
   "id": "d87ab0d1-12b8-4e96-8896-87f4de4b9ffb",
   "metadata": {},
   "outputs": [],
   "source": [
    "fruits[1]=\"Kiwi\""
   ]
  },
  {
   "cell_type": "code",
   "execution_count": 9,
   "id": "b2f62b77-7b4b-4e68-9bbc-62ae6afede06",
   "metadata": {},
   "outputs": [
    {
     "data": {
      "text/plain": [
       "['apples', 'Kiwi', 'oranges']"
      ]
     },
     "execution_count": 9,
     "metadata": {},
     "output_type": "execute_result"
    }
   ],
   "source": [
    "fruits"
   ]
  },
  {
   "cell_type": "raw",
   "id": "c2d9c559-e10e-4be7-b7f3-66684962c89c",
   "metadata": {},
   "source": [
    "5.\tDescribe the key features of sets and provide examples of their use \n",
    "Sets are unordered collections of unique elements.\n",
    "They are useful when you need to work with distinct items and perform set operations like union, intersection, and difference.\n",
    "Sets are mutable, but can add and remove elements, but the elements themselves have ti be immutable."
   ]
  },
  {
   "cell_type": "code",
   "execution_count": 16,
   "id": "3154c671-b0eb-46bb-b8a1-3de8dfea9bf7",
   "metadata": {},
   "outputs": [
    {
     "data": {
      "text/plain": [
       "set"
      ]
     },
     "execution_count": 16,
     "metadata": {},
     "output_type": "execute_result"
    }
   ],
   "source": [
    "popsicles={\"Cola\",\"Pineapple\",\"Mix\",\"Mix\"}\n",
    "type(popsicles)\n"
   ]
  },
  {
   "cell_type": "code",
   "execution_count": 14,
   "id": "131f1d93-d37b-4781-b056-6b1c558c752c",
   "metadata": {},
   "outputs": [
    {
     "data": {
      "text/plain": [
       "{'Cola', 'Mix', 'Pineapple'}"
      ]
     },
     "execution_count": 14,
     "metadata": {},
     "output_type": "execute_result"
    }
   ],
   "source": [
    "popsicles\n"
   ]
  },
  {
   "cell_type": "code",
   "execution_count": 15,
   "id": "772f90e2-2ceb-4f77-a4c5-b46d6abadfe4",
   "metadata": {},
   "outputs": [
    {
     "ename": "TypeError",
     "evalue": "'set' object is not subscriptable",
     "output_type": "error",
     "traceback": [
      "\u001b[0;31m---------------------------------------------------------------------------\u001b[0m",
      "\u001b[0;31mTypeError\u001b[0m                                 Traceback (most recent call last)",
      "Cell \u001b[0;32mIn[15], line 1\u001b[0m\n\u001b[0;32m----> 1\u001b[0m \u001b[43mpopsicles\u001b[49m\u001b[43m[\u001b[49m\u001b[38;5;241;43m1\u001b[39;49m\u001b[43m]\u001b[49m\n",
      "\u001b[0;31mTypeError\u001b[0m: 'set' object is not subscriptable"
     ]
    }
   ],
   "source": [
    "popsicles[1]"
   ]
  },
  {
   "cell_type": "raw",
   "id": "80cdfbff-c8fc-4c5c-8846-e25872312f62",
   "metadata": {},
   "source": [
    "6.\tDiscuss the use cases of tuples and sets in Python programming \n",
    "Tuples are similar to lists, but they are immutable. The elements of tuples cannot be changed after creation. \n",
    "Tuples can be used where we know all the items at the time of creation.\n",
    "Tuple items are ordered, unchangeable, and allow duplicate values.\n",
    "Tuple items are indexed which makes it easy to access its content.\n",
    "\n",
    "Sets\n",
    "Sets are unordered collections of unique elements. It does not allow duplicate values.\n",
    "Sets can be used when working with distinct elements.\n",
    "Sets are very useful as we can perform set operations like union, intersection.\n",
    "Sets are mutable, so you can add and remove elements, but the elements themselves must be immutable."
   ]
  },
  {
   "cell_type": "code",
   "execution_count": 24,
   "id": "e321d1bb-a9ed-4468-baca-d9704401cb2e",
   "metadata": {},
   "outputs": [
    {
     "data": {
      "text/plain": [
       "tuple"
      ]
     },
     "execution_count": 24,
     "metadata": {},
     "output_type": "execute_result"
    }
   ],
   "source": [
    "pancake=(\"banana\",\"eggs\",\"flour\",\"nuts\",\"syrup\")#this recipe cannot be changed\n",
    "type(pancake)"
   ]
  },
  {
   "cell_type": "code",
   "execution_count": 22,
   "id": "44e4bd8c-0427-4771-a558-0d17888aaac8",
   "metadata": {},
   "outputs": [
    {
     "data": {
      "text/plain": [
       "'nuts'"
      ]
     },
     "execution_count": 22,
     "metadata": {},
     "output_type": "execute_result"
    }
   ],
   "source": [
    "pancake[3]"
   ]
  },
  {
   "cell_type": "code",
   "execution_count": 23,
   "id": "10445e44-8aaf-4a8f-a8b9-5560213ccdab",
   "metadata": {},
   "outputs": [
    {
     "ename": "TypeError",
     "evalue": "'tuple' object does not support item assignment",
     "output_type": "error",
     "traceback": [
      "\u001b[0;31m---------------------------------------------------------------------------\u001b[0m",
      "\u001b[0;31mTypeError\u001b[0m                                 Traceback (most recent call last)",
      "Cell \u001b[0;32mIn[23], line 1\u001b[0m\n\u001b[0;32m----> 1\u001b[0m \u001b[43mpancake\u001b[49m\u001b[43m[\u001b[49m\u001b[38;5;241;43m0\u001b[39;49m\u001b[43m]\u001b[49m\u001b[38;5;241m=\u001b[39m\u001b[38;5;124m\"\u001b[39m\u001b[38;5;124mBerries\u001b[39m\u001b[38;5;124m\"\u001b[39m\n",
      "\u001b[0;31mTypeError\u001b[0m: 'tuple' object does not support item assignment"
     ]
    }
   ],
   "source": [
    "pancake[0]=\"Berries\"\n"
   ]
  },
  {
   "cell_type": "code",
   "execution_count": 25,
   "id": "77e0ffd3-18a7-4bc3-8d79-09a49f801129",
   "metadata": {},
   "outputs": [],
   "source": [
    "College_id={1,1,2,3,4} #wont take duplicate values "
   ]
  },
  {
   "cell_type": "code",
   "execution_count": 26,
   "id": "956761bc-0370-49f1-981e-a8465b45235b",
   "metadata": {},
   "outputs": [
    {
     "data": {
      "text/plain": [
       "set"
      ]
     },
     "execution_count": 26,
     "metadata": {},
     "output_type": "execute_result"
    }
   ],
   "source": [
    "type(College_id)"
   ]
  },
  {
   "cell_type": "code",
   "execution_count": 27,
   "id": "912b580f-6cdf-4764-9db8-84967ab2f0c9",
   "metadata": {},
   "outputs": [
    {
     "data": {
      "text/plain": [
       "{1, 2, 3, 4}"
      ]
     },
     "execution_count": 27,
     "metadata": {},
     "output_type": "execute_result"
    }
   ],
   "source": [
    "College_id"
   ]
  },
  {
   "cell_type": "raw",
   "id": "440e585f-8ef8-46bf-89a4-411161275b70",
   "metadata": {},
   "source": [
    "7.\tDescribe how to add, modify, and delete items in a dictionary with examples\n",
    "Dictionaries are key-value pairs that allow you to store and retrieve data based on a unique, distinct key. \n",
    "The keys must be immutable, such as strings or numbers.\n",
    "Dictionaries are useful for storing data that needs to be accessed quickly and efficiently.\n",
    "Elements are are accessed usig their keys"
   ]
  },
  {
   "cell_type": "code",
   "execution_count": 41,
   "id": "07f8eb48-33b3-4945-9bc0-91f1ede55d7d",
   "metadata": {},
   "outputs": [
    {
     "name": "stdout",
     "output_type": "stream",
     "text": [
      "{'Name': 'Elle', 'City': 'Paris', 'Age': 21}\n"
     ]
    },
    {
     "data": {
      "text/plain": [
       "dict"
      ]
     },
     "execution_count": 41,
     "metadata": {},
     "output_type": "execute_result"
    }
   ],
   "source": [
    "my_self = {'Name': 'Elle', 'City': 'Paris', 'Age': 21}\n",
    "print(my_self)\n",
    "type(my_self)\n"
   ]
  },
  {
   "cell_type": "code",
   "execution_count": 30,
   "id": "f6840db6-b043-4f0d-8b23-75325ca4396b",
   "metadata": {},
   "outputs": [
    {
     "data": {
      "text/plain": [
       "'Elle'"
      ]
     },
     "execution_count": 30,
     "metadata": {},
     "output_type": "execute_result"
    }
   ],
   "source": [
    "my_self[\"Name\"]"
   ]
  },
  {
   "cell_type": "raw",
   "id": "9476f512-02aa-4c75-a032-6a8c7c2485be",
   "metadata": {},
   "source": [
    "To add elements we can simply add a new key value pair"
   ]
  },
  {
   "cell_type": "code",
   "execution_count": 31,
   "id": "a95791dd-1a55-4f56-a29a-9b0273e1e7fb",
   "metadata": {},
   "outputs": [
    {
     "data": {
      "text/plain": [
       "{'Name': 'Elle', 'City': 'Paris', 'Age': 21, 'Designation': 'Data Analyst'}"
      ]
     },
     "execution_count": 31,
     "metadata": {},
     "output_type": "execute_result"
    }
   ],
   "source": [
    "my_self[\"Designation\"]=\"Data Analyst\"\n",
    "my_self"
   ]
  },
  {
   "cell_type": "raw",
   "id": "0460e753-7fc4-4f13-92b9-046a0c45e081",
   "metadata": {},
   "source": [
    "To delete items just use del() or pop()"
   ]
  },
  {
   "cell_type": "code",
   "execution_count": 32,
   "id": "56e7f25b-7713-423e-a9a8-1685c805bb19",
   "metadata": {},
   "outputs": [],
   "source": [
    "del my_self[\"Age\"]"
   ]
  },
  {
   "cell_type": "code",
   "execution_count": 33,
   "id": "491458d7-8141-4d4f-87a6-df63fef604f4",
   "metadata": {},
   "outputs": [
    {
     "data": {
      "text/plain": [
       "{'Name': 'Elle', 'City': 'Paris', 'Designation': 'Data Analyst'}"
      ]
     },
     "execution_count": 33,
     "metadata": {},
     "output_type": "execute_result"
    }
   ],
   "source": [
    "my_self"
   ]
  },
  {
   "cell_type": "code",
   "execution_count": 34,
   "id": "fd90e713-0fc5-4f37-884e-c01d8f368fd8",
   "metadata": {},
   "outputs": [
    {
     "data": {
      "text/plain": [
       "'Data Analyst'"
      ]
     },
     "execution_count": 34,
     "metadata": {},
     "output_type": "execute_result"
    }
   ],
   "source": [
    "my_self.pop(\"Designation\")"
   ]
  },
  {
   "cell_type": "code",
   "execution_count": 35,
   "id": "d3376be3-8717-4175-b091-fc03de8f59e0",
   "metadata": {},
   "outputs": [
    {
     "data": {
      "text/plain": [
       "{'Name': 'Elle', 'City': 'Paris'}"
      ]
     },
     "execution_count": 35,
     "metadata": {},
     "output_type": "execute_result"
    }
   ],
   "source": [
    "my_self"
   ]
  },
  {
   "cell_type": "raw",
   "id": "d9f637d3-302d-4331-9a52-185a04e2dcb2",
   "metadata": {},
   "source": [
    "MODIFY/UPDATE can be done by simply assigning or by using update "
   ]
  },
  {
   "cell_type": "code",
   "execution_count": 36,
   "id": "7b38b574-5b6e-447e-a580-f881a65a4ff7",
   "metadata": {
    "tags": []
   },
   "outputs": [
    {
     "data": {
      "text/plain": [
       "{'Designation': 'Data Analyst'}"
      ]
     },
     "execution_count": 36,
     "metadata": {},
     "output_type": "execute_result"
    }
   ],
   "source": [
    "my_self={\"Designation\":\"Data Analyst\"}\n",
    "my_self"
   ]
  },
  {
   "cell_type": "code",
   "execution_count": 38,
   "id": "628e5523-c6a0-46ee-b804-02dde2c8296f",
   "metadata": {},
   "outputs": [
    {
     "data": {
      "text/plain": [
       "{'Designation': 'CEO'}"
      ]
     },
     "execution_count": 38,
     "metadata": {},
     "output_type": "execute_result"
    }
   ],
   "source": [
    "my_self1={\"Designation\":\"CEO\"}\n",
    "my_self1"
   ]
  },
  {
   "cell_type": "code",
   "execution_count": 42,
   "id": "3ae3ec1c-6ed6-4eb4-97db-26870da18861",
   "metadata": {},
   "outputs": [],
   "source": [
    "my_self.update(my_self1)"
   ]
  },
  {
   "cell_type": "code",
   "execution_count": 43,
   "id": "09aea0e4-2a1d-44b9-8f2e-4050efe92373",
   "metadata": {},
   "outputs": [
    {
     "data": {
      "text/plain": [
       "{'Name': 'Elle', 'City': 'Paris', 'Age': 21, 'Designation': 'CEO'}"
      ]
     },
     "execution_count": 43,
     "metadata": {},
     "output_type": "execute_result"
    }
   ],
   "source": [
    "my_self"
   ]
  },
  {
   "cell_type": "raw",
   "id": "2c20ffd3-5824-4040-acfb-a99f612a0731",
   "metadata": {},
   "source": [
    "8.\tDiscuss the importance of dictionary keys being immutable and provide examples.\n",
    "Dictionary stores data in key value pairs.\n",
    "Keys are unique and immutable, while values can be of any data type.\n",
    "Keys have to be immutable as, the data or values are found or traversed using keys.\n",
    "\n"
   ]
  }
 ],
 "metadata": {
  "kernelspec": {
   "display_name": "Python 3 (ipykernel)",
   "language": "python",
   "name": "python3"
  },
  "language_info": {
   "codemirror_mode": {
    "name": "ipython",
    "version": 3
   },
   "file_extension": ".py",
   "mimetype": "text/x-python",
   "name": "python",
   "nbconvert_exporter": "python",
   "pygments_lexer": "ipython3",
   "version": "3.10.8"
  }
 },
 "nbformat": 4,
 "nbformat_minor": 5
}
